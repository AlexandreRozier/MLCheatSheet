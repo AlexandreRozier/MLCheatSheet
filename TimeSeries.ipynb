{
 "cells": [
  {
   "cell_type": "markdown",
   "metadata": {},
   "source": [
    "# Time Series Analysis ¯\\\\_(ツ)_/¯\n",
    "- Python package: `statsmodels`\n",
    "- Reference: https://www.math.u-psud.fr/~goude/Materials/time_series/cours6_ARIMA.pdf"
   ]
  },
  {
   "cell_type": "markdown",
   "metadata": {},
   "source": [
    "## 1. ARMA: Autoregressive Moving Average\n",
    "### About\n",
    "\n",
    "- Assumes time series is a stationary stochastic process\n",
    "- ARMA(p,q): $$X_t = \\gamma+ \\sum_{i=1}^{p}a_iX[t-i] + \\sum_{j=0}^{q} b_i\\epsilon[t-i]$$\n",
    "\n",
    "With $\\epsilon$ being white noise terms, $\\delta$ a drift term.\n",
    "\n",
    "### Fitting ARMA\n",
    "- With **Akkaike's Information Criterion (AIC)**. Lower AIC => better model!  \n",
    "    &rarr; Bruteforce p & q with AIC\n",
    "\n"
   ]
  },
  {
   "cell_type": "markdown",
   "metadata": {},
   "source": [
    "## 2. ARIMA: Address non-stationary time series with polynomial trend\n",
    "### About\n",
    "- Improvement of ARMA when there is a **trend** in the process, making it **non-stationary**:\n",
    "$$X_t = \\sum_{i=1}^{p}a_iX_{t-i} + \\sum_{j=0}^{q} b_i\\epsilon_{t-i} + \\sum_{j=0}^{k} \\gamma_t t^k$$ \n",
    "- The \"I\" stands for *integrated*, and this is what's leveraged to manage the trend.\n",
    "- We build the differentiation operator $$\\Delta X_t = X_t - X_{t-1}$$\n",
    "- We build the k-th order differentiation operator $$\\Delta^kX_t = \\Delta\\left(\\Delta^{k-1}X_t\\right)$$\n",
    "\n",
    "- ARIMA(p,k,q): $$\\Delta^kX_t = \\gamma+   \\sum_{i=1}^{p}a_i\\Delta^kX_{t-i} + \\sum_{j=0}^{q} b_i\\epsilon_{t-i}$$\n",
    "\n",
    ">⚠ By differentiating the stochastic process $X$, we hope that the resulting process will be stationary and thus be approached by ARMA. Indeed, if $X$ presents a polynomial trend of degree $m$, $\\Delta^kX$ will present a trend of degree $m-k$\n",
    "\n",
    "\n",
    "### Theory\n",
    "We can rewrite:\n",
    "$$ \\left(\\Delta^kX_t-\\sum_{i=1}^{p}a_i\\Delta^kX_{t-i}\\right) = \\gamma+ \\sum_{j=0}^{q} b_i\\epsilon_{t-i}$$ \n",
    "\n",
    "By introducing the **lag operator $L$**:\n",
    "\n",
    "$$ \\left(1-\\sum_{i=1}^{p}a_iL^i\\right)\\Delta^kX_t = \\gamma+ \\sum_{j=0}^{q} b_i\\epsilon_{t-i}$$ \n",
    "\n",
    "Let's assume $\\left(1-\\sum_{i=1}^{p}a_iL^i\\right)$ has a unit root of multiplicity $k$:\n",
    "$$\\Leftrightarrow \\Phi(L)\\left(1-L\\right)^k X_t =    \\Theta(L)\\epsilon_t$$\n",
    "\n",
    "It comes:\n",
    "\n",
    ">$X$ has an ARIMA(p,k,q) representation \n",
    ">$$\\Leftrightarrow \n",
    "\\left\\{\n",
    "                \\begin{array}{ll}\n",
    "                  \\textrm{There exist } \\Phi \\textrm{ and } \\Theta \\textrm{ so that:} \\\\\n",
    "                  \\Phi(L)\\left(1-L\\right)^k X_t =    \\Theta(L)\\epsilon_t\\\\\n",
    "                \\end{array}\n",
    "              \\right.$$"
   ]
  },
  {
   "cell_type": "markdown",
   "metadata": {},
   "source": [
    "### Fitting ARIMA\n",
    "&rarr; Again with **Akkaike's Information Criterion (AIC)**, but on the differentied process.\n",
    "   \n"
   ]
  },
  {
   "cell_type": "markdown",
   "metadata": {},
   "source": [
    "## 3. Accounting for seasonality: SARIMA"
   ]
  },
  {
   "cell_type": "markdown",
   "metadata": {},
   "source": [
    "### About\n",
    "- We build the differentiation operator $$\\Delta X_t = X_t - X_{t-1}$$\n",
    "- We build the k-th order differentiation operator $$\\Delta^kX_t = X_t - X_{t-k}$$\n",
    "\n",
    "> The idea behind SARIMA is to account for seasonality. SARIMA is contained in ARIMA but if we have prior knowledge of seasonality in the data (Ex: sales of an item should have a 12-months seasonality), we can directly use SARIMA instead of computing potentially useless intermediate delays in ARIMA.\n",
    "\n",
    "\n",
    "### Theory\n",
    "- We follow the same reasoning as in section 2, which yields:\n",
    "\n",
    ">X has a SARIMA$\\left((p,k,q);(P,K,Q)\\right)$ representation \n",
    ">\n",
    ">$$\\Leftrightarrow \n",
    "\\left\\{\n",
    "                \\begin{array}{ll}\n",
    "                  \\textrm{There exist } \\Phi_p, \\Phi_P, \\Theta_q, \\Theta_Q \\textrm{ so that:} \\\\\n",
    "                  \\Phi_p(L)\\left(1-L\\right)^k\\left(1-L^s\\right)^K\\Phi_P(L^s) X_t =    \\Theta_q(L)\\Theta_Q(L^s)\\epsilon_t\\\\\n",
    "                \\end{array}\n",
    "              \\right.$$\n",
    "              \n",
    "### Fitting SARIMA"
   ]
  },
  {
   "cell_type": "markdown",
   "metadata": {},
   "source": [
    "\n",
    "## 4. RNNs\n"
   ]
  },
  {
   "cell_type": "markdown",
   "metadata": {},
   "source": [
    "## 5.LSTMs"
   ]
  },
  {
   "cell_type": "code",
   "execution_count": null,
   "metadata": {},
   "outputs": [],
   "source": []
  }
 ],
 "metadata": {
  "kernelspec": {
   "display_name": "combi",
   "language": "python",
   "name": "combi"
  },
  "language_info": {
   "codemirror_mode": {
    "name": "ipython",
    "version": 3
   },
   "file_extension": ".py",
   "mimetype": "text/x-python",
   "name": "python",
   "nbconvert_exporter": "python",
   "pygments_lexer": "ipython3",
   "version": "3.6.8"
  }
 },
 "nbformat": 4,
 "nbformat_minor": 2
}
